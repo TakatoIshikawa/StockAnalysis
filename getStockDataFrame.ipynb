{
 "cells": [
  {
   "cell_type": "code",
   "execution_count": null,
   "metadata": {
    "id": "DBKg3svrBXh2"
   },
   "outputs": [],
   "source": [
    "from google.colab import runtime\n",
    "runtime.unassign()"
   ]
  },
  {
   "cell_type": "code",
   "execution_count": 1,
   "metadata": {
    "colab": {
     "base_uri": "https://localhost:8080/"
    },
    "executionInfo": {
     "elapsed": 23980,
     "status": "ok",
     "timestamp": 1681922644696,
     "user": {
      "displayName": "魚夏プログラミング",
      "userId": "09698308331546255484"
     },
     "user_tz": -540
    },
    "id": "J-66MmOPxBcv",
    "outputId": "d594517e-0c9c-4deb-8da1-072e28aa0d16"
   },
   "outputs": [
    {
     "name": "stdout",
     "output_type": "stream",
     "text": [
      "Mounted at /content/drive\n"
     ]
    }
   ],
   "source": [
    "import os\n",
    "from google.colab import drive\n",
    "\n",
    "drive.mount(\"/content/drive\")\n",
    "os.chdir(\"/content/drive/MyDrive/\")"
   ]
  },
  {
   "cell_type": "code",
   "execution_count": 1,
   "metadata": {
    "executionInfo": {
     "elapsed": 741,
     "status": "ok",
     "timestamp": 1681922647316,
     "user": {
      "displayName": "魚夏プログラミング",
      "userId": "09698308331546255484"
     },
     "user_tz": -540
    },
    "id": "Son6W3o2ROpT",
    "tags": []
   },
   "outputs": [
    {
     "ename": "ModuleNotFoundError",
     "evalue": "No module named 'pandas_datareader'",
     "output_type": "error",
     "traceback": [
      "\u001b[1;31m---------------------------------------------------------------------------\u001b[0m",
      "\u001b[1;31mModuleNotFoundError\u001b[0m                       Traceback (most recent call last)",
      "Cell \u001b[1;32mIn[1], line 1\u001b[0m\n\u001b[1;32m----> 1\u001b[0m \u001b[38;5;28;01mimport\u001b[39;00m \u001b[38;5;21;01mpandas_datareader\u001b[39;00m\u001b[38;5;21;01m.\u001b[39;00m\u001b[38;5;21;01mdata\u001b[39;00m \u001b[38;5;28;01mas\u001b[39;00m \u001b[38;5;21;01mpdr\u001b[39;00m\n\u001b[0;32m      2\u001b[0m \u001b[38;5;28;01mdef\u001b[39;00m \u001b[38;5;21mget_stock_data\u001b[39m(code) :\n\u001b[0;32m      3\u001b[0m   df \u001b[38;5;241m=\u001b[39m pdr\u001b[38;5;241m.\u001b[39mDataReader(\u001b[38;5;124m\"\u001b[39m\u001b[38;5;132;01m{}\u001b[39;00m\u001b[38;5;124m.JP\u001b[39m\u001b[38;5;124m\"\u001b[39m\u001b[38;5;241m.\u001b[39mformat(code), \u001b[38;5;124m\"\u001b[39m\u001b[38;5;124mstooq\u001b[39m\u001b[38;5;124m\"\u001b[39m)\u001b[38;5;241m.\u001b[39msort_index()\n",
      "\u001b[1;31mModuleNotFoundError\u001b[0m: No module named 'pandas_datareader'"
     ]
    }
   ],
   "source": [
    "import pandas_datareader.data as pdr\n",
    "def get_stock_data(code) :\n",
    "  df = pdr.DataReader(\"{}.JP\".format(code), \"stooq\").sort_index()\n",
    "  return df"
   ]
  },
  {
   "cell_type": "code",
   "execution_count": null,
   "metadata": {
    "executionInfo": {
     "elapsed": 6,
     "status": "ok",
     "timestamp": 1681922649389,
     "user": {
      "displayName": "魚夏プログラミング",
      "userId": "09698308331546255484"
     },
     "user_tz": -540
    },
    "id": "gadfdPCMxMzR"
   },
   "outputs": [],
   "source": [
    "#フォルダー内にファイルが存在するかどうか全て確認・表示する\n",
    "def file_Exist_All(codes, dirname) :\n",
    "  folder_path = f\"/content/drive/MyDrive/{dirname}\"  # フォルダのパスを指定\n",
    "  csv_files = [f for f in os.listdir(folder_path) if f.endswith('.csv')]\n",
    "\n",
    "  for code in codes :\n",
    "    exist_flag = False\n",
    "    csv_checkExist_file = f\"{code}_JP.csv\"\n",
    "    print(csv_checkExist_file, end = \"  :  \")\n",
    "    for csv_file in csv_files:\n",
    "      if csv_file == csv_checkExist_file:\n",
    "        exist_flag = True\n",
    "        print(\"Exist\")\n",
    "        break \n",
    "    if exist_flag == False :\n",
    "      print(\"No Exist\")"
   ]
  },
  {
   "cell_type": "code",
   "execution_count": 2,
   "metadata": {
    "executionInfo": {
     "elapsed": 7,
     "status": "ok",
     "timestamp": 1681922651800,
     "user": {
      "displayName": "魚夏プログラミング",
      "userId": "09698308331546255484"
     },
     "user_tz": -540
    },
    "id": "hG4klHqbCD3p"
   },
   "outputs": [],
   "source": [
    "#フォルダー内にファイルが存在するかどうか\n",
    "#存在しないファイルがあった場合カラムのCodeを返す\n",
    "def file_NoExist_firstCode(codes, dirname):\n",
    "  folder_path = f\"/content/drive/MyDrive/{dirname}\"  # フォルダのパスを指定\n",
    "  csv_files = [f for f in os.listdir(folder_path) if f.endswith('.csv')]\n",
    "\n",
    "  for code in codes :\n",
    "    csv_checkExist_file = f\"{code}_JP.csv\"\n",
    "    exist_flag = False\n",
    "    for csv_file in csv_files:\n",
    "      if csv_file == csv_checkExist_file:\n",
    "        exist_flag = True\n",
    "        continue\n",
    "    if exist_flag == False:\n",
    "      break\n",
    "  return code\n"
   ]
  },
  {
   "cell_type": "code",
   "execution_count": 3,
   "metadata": {
    "executionInfo": {
     "elapsed": 9,
     "status": "ok",
     "timestamp": 1681922654718,
     "user": {
      "displayName": "魚夏プログラミング",
      "userId": "09698308331546255484"
     },
     "user_tz": -540
    },
    "id": "lyluOZqI3_qu"
   },
   "outputs": [],
   "source": [
    "import csv\n",
    "import datetime as dt\n",
    "import pandas as pd\n",
    "\n",
    "#データセットのチェックと削除\n",
    "def dir_EmptyFileCheck_Delete_All(dirname) :\n",
    "  dir_path = f\"/content/drive/MyDrive/{dirname}\"  # フォルダのパスを指定\n",
    "\n",
    "  # フォルダ内のCSVファイルの一覧を取得\n",
    "  csv_files = [f for f in os.listdir(dir_path) if f.endswith('.csv')]\n",
    "\n",
    "  # 各CSVファイルの中身が空でないか確認\n",
    "  for csv_file in csv_files:\n",
    "    csv_path = os.path.join(dir_path, csv_file)\n",
    " #   print(csv_file, end =\"  :  \")\n",
    "    try :\n",
    "      df = pd.read_csv(csv_path)\n",
    "      if df.empty:\n",
    "        os.remove(f\"{csv_path}\")  \n",
    " #       print(\"empty-remove\")\n",
    " #     else  :\n",
    " #       print(\"Full\")\n",
    "\n",
    "    except pd.errors.EmptyDataError:\n",
    " #     print(\"empty-remove\")\n",
    "      os.remove(f\"{csv_path}\")"
   ]
  },
  {
   "cell_type": "code",
   "execution_count": 4,
   "metadata": {
    "executionInfo": {
     "elapsed": 256,
     "status": "ok",
     "timestamp": 1681922658958,
     "user": {
      "displayName": "魚夏プログラミング",
      "userId": "09698308331546255484"
     },
     "user_tz": -540
    },
    "id": "uvK3xrkkQwfg"
   },
   "outputs": [],
   "source": [
    "import csv\n",
    "import datetime as dt\n",
    "import pandas as pd\n",
    "\n",
    "#データセットのチェックと削除\n",
    "def dir_EmptyFileCheck_Delete_Single(csvname, dirname) :\n",
    "  empty_flag = False\n",
    "  dir_path = f\"/content/drive/MyDrive/{dirname}\"  # フォルダのパスを指定\n",
    "\n",
    "  # 各CSVファイルの中身が空でないか確認\n",
    "  csv_path = os.path.join(dir_path, csvname)\n",
    "  try :\n",
    "    df = pd.read_csv(csv_path)\n",
    "    if df.empty:\n",
    "      empty_flag = True\n",
    "      os.remove(f\"{csv_path}\")\n",
    "  except pd.errors.EmptyDataError:\n",
    "    os.remove(f\"{csv_path}\")\n",
    "\n",
    "  return empty_flag"
   ]
  },
  {
   "cell_type": "code",
   "execution_count": 5,
   "metadata": {
    "colab": {
     "base_uri": "https://localhost:8080/"
    },
    "executionInfo": {
     "elapsed": 206226,
     "status": "ok",
     "timestamp": 1681922869262,
     "user": {
      "displayName": "魚夏プログラミング",
      "userId": "09698308331546255484"
     },
     "user_tz": -540
    },
    "id": "wzScPsFXvtX6",
    "outputId": "078ce294-9ba9-48c7-82c3-74d38ec72b90"
   },
   "outputs": [
    {
     "ename": "NameError",
     "evalue": "name 'os' is not defined",
     "output_type": "error",
     "traceback": [
      "\u001b[1;31m---------------------------------------------------------------------------\u001b[0m",
      "\u001b[1;31mNameError\u001b[0m                                 Traceback (most recent call last)",
      "Cell \u001b[1;32mIn[5], line 16\u001b[0m\n\u001b[0;32m     14\u001b[0m \u001b[38;5;66;03m#ディレクトリの生成\u001b[39;00m\n\u001b[0;32m     15\u001b[0m dir_name \u001b[38;5;241m=\u001b[39m \u001b[38;5;124m\"\u001b[39m\u001b[38;5;124mPrime_data\u001b[39m\u001b[38;5;124m\"\u001b[39m\n\u001b[1;32m---> 16\u001b[0m \u001b[43mos\u001b[49m\u001b[38;5;241m.\u001b[39mmakedirs(dir_name, exist_ok \u001b[38;5;241m=\u001b[39m\u001b[38;5;28;01mTrue\u001b[39;00m)\n\u001b[0;32m     18\u001b[0m \u001b[38;5;66;03m#空のcsvファイルの削除\u001b[39;00m\n\u001b[0;32m     19\u001b[0m dir_EmptyFileCheck_Delete_All(dir_name)\n",
      "\u001b[1;31mNameError\u001b[0m: name 'os' is not defined"
     ]
    }
   ],
   "source": [
    "#データセットの保存\n",
    "import csv\n",
    "import datetime as dt\n",
    "import pandas as pd\n",
    "\n",
    "cn = pd.read_csv('all_stock_data.csv')\n",
    "cn = cn.drop(['33IndustryClass', '33IndustryCode', '17IndustryClass', '17IndustryCode'], axis = 1)\n",
    "Prime_Market = cn[cn['MarketSegment'].isin(['プライム（内国株式）'])]\n",
    "Standard_Market = cn[cn['MarketSegment'].isin(['スタンダード（内国株式）'])]\n",
    "Growth_Market = cn[cn['MarketSegment'].isin(['グロース（内国株式）'])]\n",
    "cn = Prime_Market\n",
    "codes = cn[\"Code\"]\n",
    "\n",
    "#ディレクトリの生成\n",
    "dir_name = \"Prime_data\"\n",
    "os.makedirs(dir_name, exist_ok =True)\n",
    "\n",
    "#空のcsvファイルの削除\n",
    "dir_EmptyFileCheck_Delete_All(dir_name)\n",
    "\n",
    "#ファイルが存在するかどうかの判定\n",
    "#存在しないファイルのうちもっともコードの値が少ないものを示す\n",
    "noExistFirstCode = file_NoExist_firstCode(codes, dir_name)\n",
    "\n",
    "\n",
    "#コードに対応するindex(新たな通し番号)を得る\n",
    "resetcodes = codes.reset_index(drop=True)\n",
    "index = resetcodes.index[codes==noExistFirstCode][0]\n",
    "\n",
    "#存在しない分のファイル生成\n",
    "for code in codes[index:]:\n",
    "  df = get_stock_data(code)\n",
    "  #Dateもカラムの要素の一つとする\n",
    "  df = df.reset_index(inplace=False)\n",
    "  # today = dt.date.today()\n",
    "  # dir_path = f\"{today}\"\n",
    "\n",
    "  file_name = f'{code}_JP.csv'\n",
    "  df.to_csv(os.path.join(dir_name, file_name), index = False)\n",
    "  print(code, end=\" \")\n",
    "  \n",
    "  if dir_EmptyFileCheck_Delete_Single(file_name, dir_name):\n",
    "    break"
   ]
  },
  {
   "cell_type": "code",
   "execution_count": null,
   "metadata": {
    "id": "zoJpaSnx7C0C"
   },
   "outputs": [],
   "source": [
    "#特定の要素が含まれるindexの抽出　と　特定のindexに含まれる要素の抽出　と　indexの再振り分け\n",
    "os.chdir(\"/content/drive/MyDrive/\")\n",
    "cn = pd.read_csv('all_stock_data.csv')\n",
    "cn = cn.drop(['33IndustryClass', '33IndustryCode', '17IndustryClass', '17IndustryCode'], axis = 1)\n",
    "Prime_Market = cn[cn['MarketSegment'].isin(['プライム（内国株式）'])]\n",
    "Standard_Market = cn[cn['MarketSegment'].isin(['スタンダード（内国株式）'])]\n",
    "Growth_Market = cn[cn['MarketSegment'].isin(['グロース（内国株式）'])]\n",
    "cn = Prime_Market\n",
    "codes = cn[\"Code\"]\n",
    "print(codes)\n",
    "\n",
    "#特定の要素が含まれるindexの抽出\n",
    "index = cn.index[codes==1333][0]\n",
    "print(index)\n",
    "#特定のindexに含まれる要素の抽出\n",
    "row = codes.loc[index]\n",
    "print(row)\n",
    "\n",
    "#indexの再振り分け\n",
    "resetcodes = codes.reset_index(drop=True)\n",
    "print(resetcodes)\n",
    "\n",
    "index = resetcodes.index[codes==1414][0]\n",
    "print(index)\n",
    "for code in codes[index:]:\n",
    "  print(code, end = \" \")"
   ]
  }
 ],
 "metadata": {
  "colab": {
   "authorship_tag": "ABX9TyOaCUNWwhaa6ng35y0gqll6",
   "provenance": []
  },
  "kernelspec": {
   "display_name": "Python 3 (ipykernel)",
   "language": "python",
   "name": "python3"
  },
  "language_info": {
   "codemirror_mode": {
    "name": "ipython",
    "version": 3
   },
   "file_extension": ".py",
   "mimetype": "text/x-python",
   "name": "python",
   "nbconvert_exporter": "python",
   "pygments_lexer": "ipython3",
   "version": "3.10.9"
  }
 },
 "nbformat": 4,
 "nbformat_minor": 4
}
