{
 "cells": [
  {
   "cell_type": "code",
   "execution_count": 1,
   "metadata": {},
   "outputs": [],
   "source": [
    "import pandas as pd\n",
    "import talib as ta\n",
    "import numpy as np\n",
    "import plotly.graph_objs as go\n",
    "\n",
    "import datetime as dt\n",
    "from datetime import date\n",
    "import pandas_datareader.data as pdr\n",
    "import os"
   ]
  },
  {
   "cell_type": "code",
   "execution_count": 2,
   "metadata": {},
   "outputs": [],
   "source": [
    "def get_stock_data_Internet(code) :\n",
    "  df = pdr.DataReader(\"{}.JP\".format(code), \"stooq\").sort_index()\n",
    "  return df"
   ]
  },
  {
   "cell_type": "code",
   "execution_count": 3,
   "metadata": {},
   "outputs": [],
   "source": [
    "def get_stock_data_local(dirname, code) :\n",
    "  dir_path = f\"{dirname}\"\n",
    "  csv_name = f'{code}_JP.csv'\n",
    "  csv_path = os.path.join(dir_path, csv_name)\n",
    "  dtype_dict = {'Open': float, 'High':float, 'Low':float, 'Close':float, 'Volume':float}\n",
    "  df = pd.read_csv(csv_path, index_col=0, usecols=[\"Date\", \"Open\", \"High\", \"Low\", \"Close\", \"Volume\"],\n",
    "                  dtype=dtype_dict)\n",
    "  df.index = pd.to_datetime(df.index).astype('<M8[ns]')\n",
    "  \n",
    "  return df"
   ]
  },
  {
   "cell_type": "code",
   "execution_count": 4,
   "metadata": {},
   "outputs": [],
   "source": [
    "#@return (boolean GC, boolean DC)\n",
    "def GCDC(dirname, code, day) :\n",
    "        gc_flag = False\n",
    "        dc_flag = False\n",
    "        #ここを変えればよい\n",
    "        df = get_stock_data_local(dirname, code)\n",
    "        close =df[\"Close\"]\n",
    "        #移動平均線\n",
    "        df[\"ma5\"] = ta.SMA(close, timeperiod=5)\n",
    "        df['ma25'] = ta.SMA(close, timeperiod=25)\n",
    "\n",
    "        #ゴールデンクロス、デッドクロス\n",
    "        cross = df[\"ma5\"] > df[\"ma25\"]\n",
    "        df[\"cross\"] = cross\n",
    "        cross_shift = cross.shift(1)\n",
    "        temp_gc = (cross != cross_shift) & (cross ==True)\n",
    "        temp_dc = (cross != cross_shift) & (cross == False)\n",
    "        gc = [m if g == True else np.nan for g, m in zip(temp_gc, df['ma5'])]\n",
    "        dc = [m if d == True else np.nan for d, m in zip(temp_dc, df['ma25'])]\n",
    "        df[\"gc\"], df[\"dc\"] = gc, dc\n",
    "\n",
    "\n",
    "        #------------------------日付調整-------------------------------\n",
    "        today = date.today()\n",
    "        few_ago_days = today - dt.timedelta(days = day)\n",
    "        rdf = df[dt.datetime(few_ago_days.year, few_ago_days.month, few_ago_days.day):]\n",
    "        rdf.index = pd.to_datetime(rdf.index).strftime(\"%m-%d-%Y\")\n",
    "\n",
    "        #GCまたはDCをしている日付の抽出\n",
    "        gc_index = rdf.query(\"gc == gc\").index\n",
    "        dc_index = rdf.query(\"dc == dc\").index\n",
    "\n",
    "        if len(gc_index) != 0 :\n",
    "                gc_flag = True\n",
    "\n",
    "        if len(dc_index) != 0 :\n",
    "                dc_flag = True\n",
    "\n",
    "        return gc_flag, dc_flag"
   ]
  },
  {
   "cell_type": "code",
   "execution_count": 7,
   "metadata": {},
   "outputs": [],
   "source": [
    "#銘柄のコードとGDDCをしたかどうかを表示する\n",
    "#dayは何日さかのぼるか\n",
    "def GCDC_PrintAll(dirname, day) :\n",
    "    dirname = \"Prime_data\"\n",
    "    day = 5\n",
    "\n",
    "    cn = pd.read_csv('all_stock_data.csv')\n",
    "    cn = cn.drop(['33IndustryClass', '33IndustryCode', '17IndustryClass', '17IndustryCode'], axis = 1)\n",
    "    if dirname == \"Prime_data\" :\n",
    "        cn = cn[cn['MarketSegment'].isin(['プライム（内国株式）'])]\n",
    "    if dirname == \"Standard_data\" :\n",
    "        cn = cn[cn['MarketSegment'].isin(['スタンダード（内国株式）'])]\n",
    "    if dirname == \"Growth_data\" :\n",
    "        cn = cn[cn['MarketSegment'].isin(['グロース（内国株式）'])]\n",
    "\n",
    "    codes = cn[\"Code\"]\n",
    "\n",
    "    cn[\"GC\"] = np.nan\n",
    "    cn[\"DC\"] = np.nan\n",
    "\n",
    "    for code in codes :\n",
    "        target_index = cn.query(f\"Code == {code}\").index[0]\n",
    "        print(code, end=' : ')\n",
    "        if GCDC(dirname, code, day)[0] == True:\n",
    "            cn.loc[[target_index],\"GC\"] = True\n",
    "            print(\"GC\" , end = \" \")\n",
    "        if GCDC(dirname, code, day)[1] == True:\n",
    "            cn.loc[[target_index],\"DC\"] = True\n",
    "            print(\"DC\")\n",
    "            continue\n",
    "        else :\n",
    "            print(\"None\")"
   ]
  },
  {
   "cell_type": "code",
   "execution_count": 6,
   "metadata": {},
   "outputs": [],
   "source": [
    "def GCDC_Code_List(dirname, day, gcresult, dcresult) :\n",
    "    gcdclist = []\n",
    "    cn = pd.read_csv('all_stock_data.csv')\n",
    "    cn = cn.drop(['33IndustryClass', '33IndustryCode', '17IndustryClass', '17IndustryCode'], axis = 1)\n",
    "    if dirname == \"Prime_data\" :\n",
    "        cn = cn[cn['MarketSegment'].isin(['プライム（内国株式）'])]\n",
    "    if dirname == \"Standard_data\" :\n",
    "        cn = cn[cn['MarketSegment'].isin(['スタンダード（内国株式）'])]\n",
    "    if dirname == \"Growth_data\" :\n",
    "        cn = cn[cn['MarketSegment'].isin(['グロース（内国株式）'])]\n",
    "\n",
    "    codes = cn[\"Code\"]\n",
    "\n",
    "    for code in codes :\n",
    "        gcdcResult = GCDC(dirname, code, day)\n",
    "        if gcdcResult[0] == gcresult & gcdcResult[1] == dcresult :\n",
    "            gcdclist.append(code)   \n",
    "    return gcdclist"
   ]
  },
  {
   "cell_type": "code",
   "execution_count": 9,
   "metadata": {},
   "outputs": [
    {
     "data": {
      "text/plain": [
       "1834"
      ]
     },
     "execution_count": 9,
     "metadata": {},
     "output_type": "execute_result"
    }
   ],
   "source": [
    "gcdclist = GCDC_Code_List(\"Prime_data\", 5, True, False)\n",
    "len(gcdclist)"
   ]
  }
 ],
 "metadata": {
  "kernelspec": {
   "display_name": "jupyter_env",
   "language": "python",
   "name": "python3"
  },
  "language_info": {
   "codemirror_mode": {
    "name": "ipython",
    "version": 3
   },
   "file_extension": ".py",
   "mimetype": "text/x-python",
   "name": "python",
   "nbconvert_exporter": "python",
   "pygments_lexer": "ipython3",
   "version": "3.10.11"
  },
  "orig_nbformat": 4
 },
 "nbformat": 4,
 "nbformat_minor": 2
}
